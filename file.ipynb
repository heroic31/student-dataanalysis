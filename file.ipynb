{
 "cells": [
  {
   "cell_type": "code",
   "execution_count": 1,
   "metadata": {},
   "outputs": [
    {
     "name": "stderr",
     "output_type": "stream",
     "text": [
      "24/07/27 20:09:52 WARN Utils: Your hostname, codespaces-c6b7cc resolves to a loopback address: 127.0.0.1; using 10.0.1.115 instead (on interface eth0)\n",
      "24/07/27 20:09:52 WARN Utils: Set SPARK_LOCAL_IP if you need to bind to another address\n",
      "Setting default log level to \"WARN\".\n",
      "To adjust logging level use sc.setLogLevel(newLevel). For SparkR, use setLogLevel(newLevel).\n",
      "24/07/27 20:09:54 WARN NativeCodeLoader: Unable to load native-hadoop library for your platform... using builtin-java classes where applicable\n"
     ]
    },
    {
     "name": "stdout",
     "output_type": "stream",
     "text": [
      "+---------+------+---+-----------------+--------------+----+-----------+-----------+-------------------------+\n",
      "|StudentID|Gender|Age|StudyHoursPerWeek|AttendanceRate| GPA|      Major|PartTimeJob|ExtraCurricularActivities|\n",
      "+---------+------+---+-----------------+--------------+----+-----------+-----------+-------------------------+\n",
      "|        1|  Male| 24|               37|         90.75|3.47|       Arts|        Yes|                       No|\n",
      "|        2|Female| 22|               37|          74.9|2.32|  Education|         No|                       No|\n",
      "|        3|  Male| 22|               10|         53.36|2.38|   Business|         No|                       No|\n",
      "|        4|  Male| 24|               10|         70.26|3.46|    Science|        Yes|                       No|\n",
      "|        5|  Male| 18|               19|         74.87|2.31|  Education|        Yes|                       No|\n",
      "|        6|Female| 20|               17|         86.01|2.47|   Business|        Yes|                       No|\n",
      "|        7|  Male| 19|               21|         55.33|3.93|       Arts|         No|                       No|\n",
      "|        8|  Male| 18|               14|          57.0|2.51|  Education|         No|                       No|\n",
      "|        9|  Male| 19|                9|         63.18|3.32|   Business|         No|                       No|\n",
      "|       10|Female| 24|                1|         63.32|3.96|Engineering|        Yes|                      Yes|\n",
      "|       11|  Male| 23|               13|         86.61|2.75|Engineering|        Yes|                       No|\n",
      "|       12|  Male| 19|                4|         62.54|2.04|    Science|         No|                      Yes|\n",
      "|       13|  Male| 20|                1|         81.65|2.49|   Business|         No|                       No|\n",
      "|       14|  Male| 23|               32|         74.71|3.66|Engineering|        Yes|                       No|\n",
      "|       15|Female| 19|               34|         78.66|3.73|       Arts|        Yes|                      Yes|\n",
      "|       16|  Male| 24|               28|         91.91|3.54|   Business|        Yes|                       No|\n",
      "|       17|Female| 23|               31|         70.22|2.23|       Arts|        Yes|                      Yes|\n",
      "|       18|Female| 24|                8|         88.55|3.59|       Arts|         No|                      Yes|\n",
      "|       19|Female| 19|               39|          71.1|3.84|Engineering|        Yes|                      Yes|\n",
      "|       20|  Male| 24|               26|         67.69| 3.2|   Business|        Yes|                       No|\n",
      "+---------+------+---+-----------------+--------------+----+-----------+-----------+-------------------------+\n",
      "only showing top 20 rows\n",
      "\n"
     ]
    },
    {
     "name": "stderr",
     "output_type": "stream",
     "text": [
      "24/07/27 20:10:08 WARN GarbageCollectionMetrics: To enable non-built-in garbage collector(s) List(G1 Concurrent GC), users should configure it(them) to spark.eventLog.gcMetrics.youngGenerationGarbageCollectors or spark.eventLog.gcMetrics.oldGenerationGarbageCollectors\n"
     ]
    }
   ],
   "source": [
    "# Load the dataset\n",
    "from pyspark.sql import SparkSession\n",
    "\n",
    "# Initialize Spark session\n",
    "spark = SparkSession.builder.appName(\"StudentPerformanceAnalysis\").getOrCreate()\n",
    "\n",
    "data_path = \"student_performance_data.csv\"\n",
    "df = spark.read.csv(data_path, header=True, inferSchema=True)\n",
    "\n",
    "# Show the first few rows of the dataset\n",
    "df.show()\n"
   ]
  },
  {
   "cell_type": "code",
   "execution_count": 7,
   "metadata": {},
   "outputs": [
    {
     "name": "stdout",
     "output_type": "stream",
     "text": [
      "+---------+------+---+-----------------+--------------+---+-----+-----------+-------------------------+\n",
      "|StudentID|Gender|Age|StudyHoursPerWeek|AttendanceRate|GPA|Major|PartTimeJob|ExtraCurricularActivities|\n",
      "+---------+------+---+-----------------+--------------+---+-----+-----------+-------------------------+\n",
      "|        0|     0|  0|                0|             0|  0|    0|          0|                        0|\n",
      "+---------+------+---+-----------------+--------------+---+-----+-----------+-------------------------+\n",
      "\n",
      "+---------+------+---+-----------------+--------------+----+-----------+-----------+-------------------------+-----------+\n",
      "|StudentID|Gender|Age|StudyHoursPerWeek|AttendanceRate| GPA|      Major|PartTimeJob|ExtraCurricularActivities|GenderIndex|\n",
      "+---------+------+---+-----------------+--------------+----+-----------+-----------+-------------------------+-----------+\n",
      "|        1|  Male| 24|               37|         90.75|3.47|       Arts|        Yes|                       No|        1.0|\n",
      "|        2|Female| 22|               37|          74.9|2.32|  Education|         No|                       No|        0.0|\n",
      "|        3|  Male| 22|               10|         53.36|2.38|   Business|         No|                       No|        1.0|\n",
      "|        4|  Male| 24|               10|         70.26|3.46|    Science|        Yes|                       No|        1.0|\n",
      "|        5|  Male| 18|               19|         74.87|2.31|  Education|        Yes|                       No|        1.0|\n",
      "|        6|Female| 20|               17|         86.01|2.47|   Business|        Yes|                       No|        0.0|\n",
      "|        7|  Male| 19|               21|         55.33|3.93|       Arts|         No|                       No|        1.0|\n",
      "|        8|  Male| 18|               14|          57.0|2.51|  Education|         No|                       No|        1.0|\n",
      "|        9|  Male| 19|                9|         63.18|3.32|   Business|         No|                       No|        1.0|\n",
      "|       10|Female| 24|                1|         63.32|3.96|Engineering|        Yes|                      Yes|        0.0|\n",
      "|       11|  Male| 23|               13|         86.61|2.75|Engineering|        Yes|                       No|        1.0|\n",
      "|       12|  Male| 19|                4|         62.54|2.04|    Science|         No|                      Yes|        1.0|\n",
      "|       13|  Male| 20|                1|         81.65|2.49|   Business|         No|                       No|        1.0|\n",
      "|       14|  Male| 23|               32|         74.71|3.66|Engineering|        Yes|                       No|        1.0|\n",
      "|       15|Female| 19|               34|         78.66|3.73|       Arts|        Yes|                      Yes|        0.0|\n",
      "|       16|  Male| 24|               28|         91.91|3.54|   Business|        Yes|                       No|        1.0|\n",
      "|       17|Female| 23|               31|         70.22|2.23|       Arts|        Yes|                      Yes|        0.0|\n",
      "|       18|Female| 24|                8|         88.55|3.59|       Arts|         No|                      Yes|        0.0|\n",
      "|       19|Female| 19|               39|          71.1|3.84|Engineering|        Yes|                      Yes|        0.0|\n",
      "|       20|  Male| 24|               26|         67.69| 3.2|   Business|        Yes|                       No|        1.0|\n",
      "+---------+------+---+-----------------+--------------+----+-----------+-----------+-------------------------+-----------+\n",
      "only showing top 20 rows\n",
      "\n"
     ]
    }
   ],
   "source": [
    "from pyspark.sql import SparkSession\n",
    "from pyspark.sql.functions import col, count, when\n",
    "\n",
    "# Initialize Spark session\n",
    "spark = SparkSession.builder.appName(\"StudentPerformanceAnalysis\").getOrCreate()\n",
    "\n",
    "# Load the dataset\n",
    "\n",
    "data_path = \"student_performance_data.csv\"\n",
    "df = spark.read.csv(data_path, header=True, inferSchema=True)\n",
    "\n",
    "# Check for missing values\n",
    "df.select([count(when(col(c).isNull(), c)).alias(c) for c in df.columns]).show()\n",
    "\n",
    "# Drop rows with missing values\n",
    "df = df.dropna()\n",
    "from pyspark.ml.feature import StringIndexer\n",
    "\n",
    "indexer = StringIndexer(inputCol=\"Gender\", outputCol=\"GenderIndex\")\n",
    "df = indexer.fit(df).transform(df)\n",
    "df.show()\n"
   ]
  },
  {
   "cell_type": "code",
   "execution_count": 9,
   "metadata": {},
   "outputs": [
    {
     "name": "stdout",
     "output_type": "stream",
     "text": [
      "root\n",
      " |-- StudentID: integer (nullable = true)\n",
      " |-- Gender: string (nullable = true)\n",
      " |-- Age: integer (nullable = true)\n",
      " |-- StudyHoursPerWeek: integer (nullable = true)\n",
      " |-- AttendanceRate: double (nullable = true)\n",
      " |-- GPA: double (nullable = true)\n",
      " |-- Major: string (nullable = true)\n",
      " |-- PartTimeJob: string (nullable = true)\n",
      " |-- ExtraCurricularActivities: string (nullable = true)\n",
      " |-- GenderIndex: double (nullable = false)\n",
      "\n"
     ]
    }
   ],
   "source": [
    "# Check the schema of the DataFrame to see the actual column names\n",
    "df.printSchema()\n"
   ]
  },
  {
   "cell_type": "code",
   "execution_count": 10,
   "metadata": {},
   "outputs": [
    {
     "name": "stdout",
     "output_type": "stream",
     "text": [
      "+---------+------+---+-----------------+--------------+---+-----+-----------+-------------------------+-----------+\n",
      "|StudentID|Gender|Age|StudyHoursPerWeek|AttendanceRate|GPA|Major|PartTimeJob|ExtraCurricularActivities|GenderIndex|\n",
      "+---------+------+---+-----------------+--------------+---+-----+-----------+-------------------------+-----------+\n",
      "|        0|     0|  0|                0|             0|  0|    0|          0|                        0|          0|\n",
      "+---------+------+---+-----------------+--------------+---+-----+-----------+-------------------------+-----------+\n",
      "\n"
     ]
    }
   ],
   "source": [
    "from pyspark.sql.functions import col, count, when\n",
    "\n",
    "# Check for missing values\n",
    "df.select([count(when(col(c).isNull(), c)).alias(c) for c in df.columns]).show()\n"
   ]
  },
  {
   "cell_type": "code",
   "execution_count": 11,
   "metadata": {},
   "outputs": [],
   "source": [
    "# Drop rows with missing values\n",
    "df = df.dropna()\n"
   ]
  },
  {
   "cell_type": "code",
   "execution_count": 12,
   "metadata": {},
   "outputs": [
    {
     "name": "stdout",
     "output_type": "stream",
     "text": [
      "+-------+-----------------+------+------------------+------------------+------------------+------------------+-------+-----------+-------------------------+------------------+\n",
      "|summary|        StudentID|Gender|               Age| StudyHoursPerWeek|    AttendanceRate|               GPA|  Major|PartTimeJob|ExtraCurricularActivities|       GenderIndex|\n",
      "+-------+-----------------+------+------------------+------------------+------------------+------------------+-------+-----------+-------------------------+------------------+\n",
      "|  count|              500|   500|               500|               500|               500|               500|    500|        500|                      500|               500|\n",
      "|   mean|            250.5|  NULL|            20.956|            19.876| 74.99038000000003|2.9851599999999987|   NULL|       NULL|                     NULL|             0.488|\n",
      "| stddev|144.4818327679989|  NULL|2.0005169672543515|11.471347244993952|14.565916830802095|0.5636203600123407|   NULL|       NULL|                     NULL|0.5003565862730838|\n",
      "|    min|                1|Female|                18|                 1|             50.01|               2.0|   Arts|         No|                       No|               0.0|\n",
      "|    max|              500|  Male|                24|                39|             99.97|              3.99|Science|        Yes|                      Yes|               1.0|\n",
      "+-------+-----------------+------+------------------+------------------+------------------+------------------+-------+-----------+-------------------------+------------------+\n",
      "\n"
     ]
    }
   ],
   "source": [
    "# Describe the DataFrame to get summary statistics\n",
    "df.describe().show()\n"
   ]
  },
  {
   "cell_type": "code",
   "execution_count": 13,
   "metadata": {},
   "outputs": [
    {
     "name": "stdout",
     "output_type": "stream",
     "text": [
      "+-------+------------------+------------------+------------------+\n",
      "|summary| StudyHoursPerWeek|    AttendanceRate|               GPA|\n",
      "+-------+------------------+------------------+------------------+\n",
      "|  count|               500|               500|               500|\n",
      "|   mean|            19.876| 74.99038000000003|2.9851599999999987|\n",
      "| stddev|11.471347244993952|14.565916830802095|0.5636203600123407|\n",
      "|    min|                 1|             50.01|               2.0|\n",
      "|    max|                39|             99.97|              3.99|\n",
      "+-------+------------------+------------------+------------------+\n",
      "\n"
     ]
    }
   ],
   "source": [
    "# Select specific columns for descriptive statistics\n",
    "df.select(\"StudyHoursPerWeek\", \"AttendanceRate\", \"GPA\").describe().show()\n"
   ]
  },
  {
   "cell_type": "code",
   "execution_count": 14,
   "metadata": {},
   "outputs": [
    {
     "data": {
      "image/png": "[encoded data removed]",
      "text/plain": [
       "<Figure size 640x480 with 1 Axes>"
      ]
     },
     "metadata": {},
     "output_type": "display_data"
    },
    {
     "data": {
      "image/png": "[encoded data removed]",
      "text/plain": [
       "<Figure size 640x480 with 1 Axes>"
      ]
     },
     "metadata": {},
     "output_type": "display_data"
    }
   ],
   "source": [
    "import matplotlib.pyplot as plt\n",
    "\n",
    "# Convert Spark DataFrame to Pandas DataFrame for visualization\n",
    "pandas_df = df.toPandas()\n",
    "\n",
    "# Plot the distribution of GPA\n",
    "plt.hist(pandas_df['GPA'], bins=30, alpha=0.7, label='GPA')\n",
    "plt.xlabel('GPA')\n",
    "plt.ylabel('Frequency')\n",
    "plt.title('Distribution of GPA')\n",
    "plt.legend()\n",
    "plt.show()\n",
    "\n",
    "# Similarly, you can plot for other numeric columns\n",
    "plt.hist(pandas_df['StudyHoursPerWeek'], bins=30, alpha=0.7, label='Study Hours Per Week')\n",
    "plt.xlabel('Study Hours Per Week')\n",
    "plt.ylabel('Frequency')\n",
    "plt.title('Distribution of Study Hours Per Week')\n",
    "plt.legend()\n",
    "plt.show()\n"
   ]
  },
  {
   "cell_type": "code",
   "execution_count": null,
   "metadata": {},
   "outputs": [],
   "source": []
  }
 ],
 "metadata": {
  "kernelspec": {
   "display_name": "Python 3",
   "language": "python",
   "name": "python3"
  },
  "language_info": {
   "codemirror_mode": {
    "name": "ipython",
    "version": 3
   },
   "file_extension": ".py",
   "mimetype": "text/x-python",
   "name": "python",
   "nbconvert_exporter": "python",
   "pygments_lexer": "ipython3",
   "version": "3.10.13"
  }
 },
 "nbformat": 4,
 "nbformat_minor": 2
}
